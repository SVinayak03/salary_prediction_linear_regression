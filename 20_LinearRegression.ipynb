{
  "cells": [
    {
      "cell_type": "markdown",
      "metadata": {
        "id": "view-in-github",
        "colab_type": "text"
      },
      "source": [
        "<a href=\"https://colab.research.google.com/github/vinayakbs311/salary_prediction_linear_regression/blob/main/20_LinearRegression.ipynb\" target=\"_parent\"><img src=\"https://colab.research.google.com/assets/colab-badge.svg\" alt=\"Open In Colab\"/></a>"
      ]
    },
    {
      "cell_type": "markdown",
      "id": "5b36fcbb",
      "metadata": {
        "id": "5b36fcbb"
      },
      "source": [
        "# Simple Linear regression"
      ]
    },
    {
      "cell_type": "code",
      "execution_count": null,
      "id": "89c228fc",
      "metadata": {
        "id": "89c228fc"
      },
      "outputs": [],
      "source": [
        "#load libraries\n",
        "import pandas as pd"
      ]
    },
    {
      "cell_type": "markdown",
      "id": "37d82d21",
      "metadata": {
        "id": "37d82d21"
      },
      "source": [
        "#### In general flow of ML:\n",
        "    - load data\n",
        "    - perform some EDA\n",
        "    - Preprocessing\n",
        "    - if we have one dataset : separate X(input) and y(Output)\n",
        "    - Call the algorithm/Create an object of an algo.\n",
        "    - Perform Model Training\n",
        "    - Perform Model Testing\n",
        "    - Check performance using some accuracy measures\n",
        "    - if accuracy is nt good then find out the reason\n",
        "    - or try some hyeperparamter tuning"
      ]
    },
    {
      "cell_type": "code",
      "execution_count": null,
      "id": "e19d716b",
      "metadata": {
        "id": "e19d716b",
        "outputId": "a059dda2-895b-4ffe-a20f-6d02c55dea29"
      },
      "outputs": [
        {
          "data": {
            "text/html": [
              "<div>\n",
              "<style scoped>\n",
              "    .dataframe tbody tr th:only-of-type {\n",
              "        vertical-align: middle;\n",
              "    }\n",
              "\n",
              "    .dataframe tbody tr th {\n",
              "        vertical-align: top;\n",
              "    }\n",
              "\n",
              "    .dataframe thead th {\n",
              "        text-align: right;\n",
              "    }\n",
              "</style>\n",
              "<table border=\"1\" class=\"dataframe\">\n",
              "  <thead>\n",
              "    <tr style=\"text-align: right;\">\n",
              "      <th></th>\n",
              "      <th>YearsExperience</th>\n",
              "      <th>Salary</th>\n",
              "    </tr>\n",
              "  </thead>\n",
              "  <tbody>\n",
              "    <tr>\n",
              "      <th>0</th>\n",
              "      <td>1.1</td>\n",
              "      <td>39343.0</td>\n",
              "    </tr>\n",
              "    <tr>\n",
              "      <th>1</th>\n",
              "      <td>1.3</td>\n",
              "      <td>46205.0</td>\n",
              "    </tr>\n",
              "    <tr>\n",
              "      <th>2</th>\n",
              "      <td>1.5</td>\n",
              "      <td>37731.0</td>\n",
              "    </tr>\n",
              "    <tr>\n",
              "      <th>3</th>\n",
              "      <td>2.0</td>\n",
              "      <td>43525.0</td>\n",
              "    </tr>\n",
              "    <tr>\n",
              "      <th>4</th>\n",
              "      <td>2.2</td>\n",
              "      <td>39891.0</td>\n",
              "    </tr>\n",
              "  </tbody>\n",
              "</table>\n",
              "</div>"
            ],
            "text/plain": [
              "   YearsExperience   Salary\n",
              "0              1.1  39343.0\n",
              "1              1.3  46205.0\n",
              "2              1.5  37731.0\n",
              "3              2.0  43525.0\n",
              "4              2.2  39891.0"
            ]
          },
          "execution_count": 2,
          "metadata": {},
          "output_type": "execute_result"
        }
      ],
      "source": [
        "df = pd.read_csv('Salary_Data.csv')\n",
        "df.head()"
      ]
    },
    {
      "cell_type": "code",
      "execution_count": null,
      "id": "08dc3827",
      "metadata": {
        "id": "08dc3827",
        "outputId": "07d08cbb-a045-4249-c72e-a09ff029b699"
      },
      "outputs": [
        {
          "data": {
            "text/plain": [
              "<AxesSubplot:xlabel='YearsExperience', ylabel='Salary'>"
            ]
          },
          "execution_count": 3,
          "metadata": {},
          "output_type": "execute_result"
        },
        {
          "data": {
            "image/png": "[encoded data removed]",
            "text/plain": [
              "<Figure size 432x288 with 1 Axes>"
            ]
          },
          "metadata": {
            "needs_background": "light"
          },
          "output_type": "display_data"
        }
      ],
      "source": [
        "#1 input(YearsofExp) + 1 Output(Salary)\n",
        "#lets check relation between input and output\n",
        "df.plot.scatter(x='YearsExperience',y='Salary')"
      ]
    },
    {
      "cell_type": "code",
      "execution_count": null,
      "id": "c04faaac",
      "metadata": {
        "id": "c04faaac",
        "outputId": "02c74322-408a-4573-c604-cfc3b4c458ad"
      },
      "outputs": [
        {
          "data": {
            "text/html": [
              "<style type=\"text/css\">\n",
              "#T_b8e3f_row0_col0, #T_b8e3f_row1_col1 {\n",
              "  background-color: #08306b;\n",
              "  color: #f1f1f1;\n",
              "}\n",
              "#T_b8e3f_row0_col1, #T_b8e3f_row1_col0 {\n",
              "  background-color: #f7fbff;\n",
              "  color: #000000;\n",
              "}\n",
              "</style>\n",
              "<table id=\"T_b8e3f_\">\n",
              "  <thead>\n",
              "    <tr>\n",
              "      <th class=\"blank level0\" >&nbsp;</th>\n",
              "      <th class=\"col_heading level0 col0\" >YearsExperience</th>\n",
              "      <th class=\"col_heading level0 col1\" >Salary</th>\n",
              "    </tr>\n",
              "  </thead>\n",
              "  <tbody>\n",
              "    <tr>\n",
              "      <th id=\"T_b8e3f_level0_row0\" class=\"row_heading level0 row0\" >YearsExperience</th>\n",
              "      <td id=\"T_b8e3f_row0_col0\" class=\"data row0 col0\" >1.000000</td>\n",
              "      <td id=\"T_b8e3f_row0_col1\" class=\"data row0 col1\" >0.978242</td>\n",
              "    </tr>\n",
              "    <tr>\n",
              "      <th id=\"T_b8e3f_level0_row1\" class=\"row_heading level0 row1\" >Salary</th>\n",
              "      <td id=\"T_b8e3f_row1_col0\" class=\"data row1 col0\" >0.978242</td>\n",
              "      <td id=\"T_b8e3f_row1_col1\" class=\"data row1 col1\" >1.000000</td>\n",
              "    </tr>\n",
              "  </tbody>\n",
              "</table>\n"
            ],
            "text/plain": [
              "<pandas.io.formats.style.Styler at 0x28959cb1760>"
            ]
          },
          "execution_count": 4,
          "metadata": {},
          "output_type": "execute_result"
        }
      ],
      "source": [
        "df.corr().style.background_gradient('Blues')"
      ]
    },
    {
      "cell_type": "code",
      "execution_count": null,
      "id": "89d61291",
      "metadata": {
        "id": "89d61291",
        "outputId": "7b2ec5ec-ff05-4184-a4fe-ee9bbacc7dd2"
      },
      "outputs": [
        {
          "data": {
            "text/html": [
              "<div>\n",
              "<style scoped>\n",
              "    .dataframe tbody tr th:only-of-type {\n",
              "        vertical-align: middle;\n",
              "    }\n",
              "\n",
              "    .dataframe tbody tr th {\n",
              "        vertical-align: top;\n",
              "    }\n",
              "\n",
              "    .dataframe thead th {\n",
              "        text-align: right;\n",
              "    }\n",
              "</style>\n",
              "<table border=\"1\" class=\"dataframe\">\n",
              "  <thead>\n",
              "    <tr style=\"text-align: right;\">\n",
              "      <th></th>\n",
              "      <th>YearsExperience</th>\n",
              "    </tr>\n",
              "  </thead>\n",
              "  <tbody>\n",
              "    <tr>\n",
              "      <th>0</th>\n",
              "      <td>1.1</td>\n",
              "    </tr>\n",
              "    <tr>\n",
              "      <th>1</th>\n",
              "      <td>1.3</td>\n",
              "    </tr>\n",
              "  </tbody>\n",
              "</table>\n",
              "</div>"
            ],
            "text/plain": [
              "   YearsExperience\n",
              "0              1.1\n",
              "1              1.3"
            ]
          },
          "execution_count": 5,
          "metadata": {},
          "output_type": "execute_result"
        }
      ],
      "source": [
        "# Separate X and y\n",
        "# in ML: input must be in 2D\n",
        "X = df[['YearsExperience']]\n",
        "X[:2]"
      ]
    },
    {
      "cell_type": "code",
      "execution_count": null,
      "id": "974e6351",
      "metadata": {
        "scrolled": true,
        "id": "974e6351",
        "outputId": "fe51f77f-c393-44bc-9bbe-bd33e310f18c"
      },
      "outputs": [
        {
          "data": {
            "text/plain": [
              "0    39343.0\n",
              "1    46205.0\n",
              "Name: Salary, dtype: float64"
            ]
          },
          "execution_count": 6,
          "metadata": {},
          "output_type": "execute_result"
        }
      ],
      "source": [
        "y = df.Salary\n",
        "y[:2]"
      ]
    },
    {
      "cell_type": "markdown",
      "id": "dc087d07",
      "metadata": {
        "id": "dc087d07"
      },
      "source": [
        "### for ML, we use sklearn library also known as Scikit learn"
      ]
    },
    {
      "cell_type": "code",
      "execution_count": null,
      "id": "0aeef1d8",
      "metadata": {
        "id": "0aeef1d8"
      },
      "outputs": [],
      "source": [
        "#Call the algorithm/Create an object of an algo.\n",
        "from sklearn.linear_model import LinearRegression"
      ]
    },
    {
      "cell_type": "code",
      "execution_count": null,
      "id": "eb7aa6fc",
      "metadata": {
        "id": "eb7aa6fc",
        "outputId": "9cc390b8-e806-46bb-98ce-5b800c824b36"
      },
      "outputs": [
        {
          "data": {
            "text/plain": [
              "LinearRegression()"
            ]
          },
          "execution_count": 8,
          "metadata": {},
          "output_type": "execute_result"
        }
      ],
      "source": [
        "model = LinearRegression()\n",
        "model"
      ]
    },
    {
      "cell_type": "markdown",
      "id": "62b1c789",
      "metadata": {
        "id": "62b1c789"
      },
      "source": [
        "### - Perform Model Training"
      ]
    },
    {
      "cell_type": "code",
      "execution_count": null,
      "id": "c7753c96",
      "metadata": {
        "id": "c7753c96",
        "outputId": "03a987e7-406c-4700-ffc2-8b059ccfb048"
      },
      "outputs": [
        {
          "data": {
            "text/plain": [
              "LinearRegression()"
            ]
          },
          "execution_count": 9,
          "metadata": {},
          "output_type": "execute_result"
        }
      ],
      "source": [
        "# fit()= method is used to perform training of an algo.\n",
        "model.fit(X,y)"
      ]
    },
    {
      "cell_type": "markdown",
      "id": "4c3c513e",
      "metadata": {
        "id": "4c3c513e"
      },
      "source": [
        "### - Perform Model Testing"
      ]
    },
    {
      "cell_type": "code",
      "execution_count": null,
      "id": "28478c62",
      "metadata": {
        "id": "28478c62",
        "outputId": "3097790f-6ce3-409b-9eda-ac12a2c63d5c"
      },
      "outputs": [
        {
          "data": {
            "text/plain": [
              "array([36187.15875227])"
            ]
          },
          "execution_count": 10,
          "metadata": {},
          "output_type": "execute_result"
        }
      ],
      "source": [
        "#to test/evaluate model use predict() method\n",
        "model.predict([[1.1]])"
      ]
    },
    {
      "cell_type": "code",
      "execution_count": null,
      "id": "1740b8fe",
      "metadata": {
        "scrolled": false,
        "id": "1740b8fe",
        "outputId": "1fcee64e-6830-4e8e-eafb-6526f4c61a95"
      },
      "outputs": [
        {
          "data": {
            "text/html": [
              "<div>\n",
              "<style scoped>\n",
              "    .dataframe tbody tr th:only-of-type {\n",
              "        vertical-align: middle;\n",
              "    }\n",
              "\n",
              "    .dataframe tbody tr th {\n",
              "        vertical-align: top;\n",
              "    }\n",
              "\n",
              "    .dataframe thead th {\n",
              "        text-align: right;\n",
              "    }\n",
              "</style>\n",
              "<table border=\"1\" class=\"dataframe\">\n",
              "  <thead>\n",
              "    <tr style=\"text-align: right;\">\n",
              "      <th></th>\n",
              "      <th>YearsExperience</th>\n",
              "      <th>Salary</th>\n",
              "    </tr>\n",
              "  </thead>\n",
              "  <tbody>\n",
              "    <tr>\n",
              "      <th>10</th>\n",
              "      <td>3.9</td>\n",
              "      <td>63218.0</td>\n",
              "    </tr>\n",
              "    <tr>\n",
              "      <th>14</th>\n",
              "      <td>4.5</td>\n",
              "      <td>61111.0</td>\n",
              "    </tr>\n",
              "    <tr>\n",
              "      <th>1</th>\n",
              "      <td>1.3</td>\n",
              "      <td>46205.0</td>\n",
              "    </tr>\n",
              "    <tr>\n",
              "      <th>0</th>\n",
              "      <td>1.1</td>\n",
              "      <td>39343.0</td>\n",
              "    </tr>\n",
              "    <tr>\n",
              "      <th>3</th>\n",
              "      <td>2.0</td>\n",
              "      <td>43525.0</td>\n",
              "    </tr>\n",
              "  </tbody>\n",
              "</table>\n",
              "</div>"
            ],
            "text/plain": [
              "    YearsExperience   Salary\n",
              "10              3.9  63218.0\n",
              "14              4.5  61111.0\n",
              "1               1.3  46205.0\n",
              "0               1.1  39343.0\n",
              "3               2.0  43525.0"
            ]
          },
          "execution_count": 11,
          "metadata": {},
          "output_type": "execute_result"
        }
      ],
      "source": [
        "df.sample(5)"
      ]
    },
    {
      "cell_type": "code",
      "execution_count": null,
      "id": "7b67245b",
      "metadata": {
        "id": "7b67245b",
        "outputId": "a635d5a0-6aff-4989-a804-64918ad5b4a9"
      },
      "outputs": [
        {
          "data": {
            "text/plain": [
              "array([ 56032.07962732, 103281.8912346 ,  72097.0155738 , 116511.83848464,\n",
              "        81546.97789525])"
            ]
          },
          "execution_count": 12,
          "metadata": {},
          "output_type": "execute_result"
        }
      ],
      "source": [
        "model.predict([[3.2],[8.2],[4.9],[9.6],[5.9]])"
      ]
    },
    {
      "cell_type": "code",
      "execution_count": null,
      "id": "368d1734",
      "metadata": {
        "scrolled": true,
        "id": "368d1734",
        "outputId": "4727cc5e-69ac-4c05-9648-eaec15c286e6"
      },
      "outputs": [
        {
          "data": {
            "text/plain": [
              "(YearsExperience    1.1\n",
              " dtype: float64,\n",
              " YearsExperience    10.5\n",
              " dtype: float64)"
            ]
          },
          "execution_count": 13,
          "metadata": {},
          "output_type": "execute_result"
        }
      ],
      "source": [
        "X.min(),X.max()"
      ]
    },
    {
      "cell_type": "code",
      "execution_count": null,
      "id": "c10036f8",
      "metadata": {
        "id": "c10036f8",
        "outputId": "b48c2226-8031-4753-f4aa-1b67189645e0"
      },
      "outputs": [
        {
          "data": {
            "text/plain": [
              "array([25792.20019867])"
            ]
          },
          "execution_count": 14,
          "metadata": {},
          "output_type": "execute_result"
        }
      ],
      "source": [
        "# beyond min and max u can predict\n",
        "#lets checksalary for Fresher\n",
        "model.predict([[0]])"
      ]
    },
    {
      "cell_type": "code",
      "execution_count": null,
      "id": "e755dad4",
      "metadata": {
        "id": "e755dad4",
        "outputId": "53ab8064-200f-4fce-c478-bb0778daa474"
      },
      "outputs": [
        {
          "data": {
            "text/plain": [
              "array([176991.59734195])"
            ]
          },
          "execution_count": 15,
          "metadata": {},
          "output_type": "execute_result"
        }
      ],
      "source": [
        "#if a person with exp 16 yrs\n",
        "model.predict([[16]])"
      ]
    },
    {
      "cell_type": "code",
      "execution_count": null,
      "id": "320a1acd",
      "metadata": {
        "id": "320a1acd",
        "outputId": "13835722-3f35-433b-c1ad-af0a07b98a5d"
      },
      "outputs": [
        {
          "data": {
            "text/plain": [
              "\"\\nimport time\\nprint('Welcome to salary Calculator')\\ntime.sleep(2)\\nexp = float(input('Enter your Experience in yrs:'))\\nsal = round(float(model.predict([[exp]])),2)\\nprint('For experience',exp,'yrs','your predicted salary is:Rs.',sal)\\n\""
            ]
          },
          "execution_count": 16,
          "metadata": {},
          "output_type": "execute_result"
        }
      ],
      "source": [
        "\"\"\"\n",
        "import time\n",
        "print('Welcome to salary Calculator')\n",
        "time.sleep(2)\n",
        "exp = float(input('Enter your Experience in yrs:'))\n",
        "sal = round(float(model.predict([[exp]])),2)\n",
        "print('For experience',exp,'yrs','your predicted salary is:Rs.',sal)\n",
        "\"\"\""
      ]
    },
    {
      "cell_type": "code",
      "execution_count": null,
      "id": "3a37d1a5",
      "metadata": {
        "scrolled": true,
        "id": "3a37d1a5",
        "outputId": "36db1c98-874d-4c22-bc95-db6bcc0f71d8"
      },
      "outputs": [
        {
          "data": {
            "text/plain": [
              "176991.6"
            ]
          },
          "execution_count": 18,
          "metadata": {},
          "output_type": "execute_result"
        }
      ],
      "source": [
        "round(float(model.predict([[16]])),2)"
      ]
    },
    {
      "cell_type": "code",
      "execution_count": null,
      "id": "72ddd3aa",
      "metadata": {
        "id": "72ddd3aa",
        "outputId": "47368f7b-8afd-415b-e821-7655a4ddbbf6"
      },
      "outputs": [
        {
          "data": {
            "text/html": [
              "<div>\n",
              "<style scoped>\n",
              "    .dataframe tbody tr th:only-of-type {\n",
              "        vertical-align: middle;\n",
              "    }\n",
              "\n",
              "    .dataframe tbody tr th {\n",
              "        vertical-align: top;\n",
              "    }\n",
              "\n",
              "    .dataframe thead th {\n",
              "        text-align: right;\n",
              "    }\n",
              "</style>\n",
              "<table border=\"1\" class=\"dataframe\">\n",
              "  <thead>\n",
              "    <tr style=\"text-align: right;\">\n",
              "      <th></th>\n",
              "      <th>YearsExperience</th>\n",
              "      <th>Salary</th>\n",
              "    </tr>\n",
              "  </thead>\n",
              "  <tbody>\n",
              "    <tr>\n",
              "      <th>2</th>\n",
              "      <td>1.5</td>\n",
              "      <td>37731.0</td>\n",
              "    </tr>\n",
              "    <tr>\n",
              "      <th>29</th>\n",
              "      <td>10.5</td>\n",
              "      <td>121872.0</td>\n",
              "    </tr>\n",
              "    <tr>\n",
              "      <th>18</th>\n",
              "      <td>5.9</td>\n",
              "      <td>81363.0</td>\n",
              "    </tr>\n",
              "  </tbody>\n",
              "</table>\n",
              "</div>"
            ],
            "text/plain": [
              "    YearsExperience    Salary\n",
              "2               1.5   37731.0\n",
              "29             10.5  121872.0\n",
              "18              5.9   81363.0"
            ]
          },
          "execution_count": 19,
          "metadata": {},
          "output_type": "execute_result"
        }
      ],
      "source": [
        "test = df.sample(10)\n",
        "test[:3]"
      ]
    },
    {
      "cell_type": "code",
      "execution_count": null,
      "id": "3e2262d1",
      "metadata": {
        "id": "3e2262d1",
        "outputId": "30b72d10-8a51-43c6-e8bb-0e7bf90247d2"
      },
      "outputs": [
        {
          "data": {
            "text/html": [
              "<div>\n",
              "<style scoped>\n",
              "    .dataframe tbody tr th:only-of-type {\n",
              "        vertical-align: middle;\n",
              "    }\n",
              "\n",
              "    .dataframe tbody tr th {\n",
              "        vertical-align: top;\n",
              "    }\n",
              "\n",
              "    .dataframe thead th {\n",
              "        text-align: right;\n",
              "    }\n",
              "</style>\n",
              "<table border=\"1\" class=\"dataframe\">\n",
              "  <thead>\n",
              "    <tr style=\"text-align: right;\">\n",
              "      <th></th>\n",
              "      <th>YearsExperience</th>\n",
              "    </tr>\n",
              "  </thead>\n",
              "  <tbody>\n",
              "    <tr>\n",
              "      <th>2</th>\n",
              "      <td>1.5</td>\n",
              "    </tr>\n",
              "    <tr>\n",
              "      <th>29</th>\n",
              "      <td>10.5</td>\n",
              "    </tr>\n",
              "    <tr>\n",
              "      <th>18</th>\n",
              "      <td>5.9</td>\n",
              "    </tr>\n",
              "    <tr>\n",
              "      <th>21</th>\n",
              "      <td>7.1</td>\n",
              "    </tr>\n",
              "    <tr>\n",
              "      <th>4</th>\n",
              "      <td>2.2</td>\n",
              "    </tr>\n",
              "    <tr>\n",
              "      <th>24</th>\n",
              "      <td>8.7</td>\n",
              "    </tr>\n",
              "    <tr>\n",
              "      <th>12</th>\n",
              "      <td>4.0</td>\n",
              "    </tr>\n",
              "    <tr>\n",
              "      <th>6</th>\n",
              "      <td>3.0</td>\n",
              "    </tr>\n",
              "    <tr>\n",
              "      <th>14</th>\n",
              "      <td>4.5</td>\n",
              "    </tr>\n",
              "    <tr>\n",
              "      <th>27</th>\n",
              "      <td>9.6</td>\n",
              "    </tr>\n",
              "  </tbody>\n",
              "</table>\n",
              "</div>"
            ],
            "text/plain": [
              "    YearsExperience\n",
              "2               1.5\n",
              "29             10.5\n",
              "18              5.9\n",
              "21              7.1\n",
              "4               2.2\n",
              "24              8.7\n",
              "12              4.0\n",
              "6               3.0\n",
              "14              4.5\n",
              "27              9.6"
            ]
          },
          "execution_count": 20,
          "metadata": {},
          "output_type": "execute_result"
        }
      ],
      "source": [
        "test_input = test[['YearsExperience']]\n",
        "test_input"
      ]
    },
    {
      "cell_type": "code",
      "execution_count": null,
      "id": "9f330dd5",
      "metadata": {
        "id": "9f330dd5",
        "outputId": "02b710a7-bcdf-4aae-bf8a-33ae2b8f4640"
      },
      "outputs": [
        {
          "data": {
            "text/plain": [
              "array([ 39967.14368085, 125016.80457395,  81546.97789525,  92886.932681  ,\n",
              "        46582.11730587, 108006.87239533,  63592.04948449,  54142.08716303,\n",
              "        68317.03064522, 116511.83848464])"
            ]
          },
          "execution_count": 21,
          "metadata": {},
          "output_type": "execute_result"
        }
      ],
      "source": [
        "#predict on above input\n",
        "predicted = model.predict(test_input)\n",
        "predicted"
      ]
    },
    {
      "cell_type": "code",
      "execution_count": null,
      "id": "f5e3acab",
      "metadata": {
        "scrolled": true,
        "id": "f5e3acab",
        "outputId": "dea5aa32-33d7-4dfb-f41c-b67520ad69f1"
      },
      "outputs": [
        {
          "data": {
            "text/plain": [
              "<matplotlib.legend.Legend at 0x2895ca369a0>"
            ]
          },
          "execution_count": 22,
          "metadata": {},
          "output_type": "execute_result"
        },
        {
          "data": {
            "image/png": "[encoded data removed]",
            "text/plain": [
              "<Figure size 432x288 with 1 Axes>"
            ]
          },
          "metadata": {
            "needs_background": "light"
          },
          "output_type": "display_data"
        }
      ],
      "source": [
        "import matplotlib.pyplot as plt\n",
        "plt.scatter(X,y,label='Data points')\n",
        "plt.plot(test_input,predicted,'--r',label='Best fit line')\n",
        "plt.legend()"
      ]
    },
    {
      "cell_type": "code",
      "execution_count": null,
      "id": "fa5557c4",
      "metadata": {
        "id": "fa5557c4",
        "outputId": "5960bd49-e597-444c-b798-a5409eb7ae12"
      },
      "outputs": [
        {
          "data": {
            "text/plain": [
              "array([25792.20019867])"
            ]
          },
          "execution_count": 23,
          "metadata": {},
          "output_type": "execute_result"
        }
      ],
      "source": [
        "model.predict([[0]])"
      ]
    },
    {
      "cell_type": "markdown",
      "id": "196dfbc3",
      "metadata": {
        "id": "196dfbc3"
      },
      "source": [
        "# y_pred = mx + c"
      ]
    },
    {
      "cell_type": "code",
      "execution_count": null,
      "id": "d107f441",
      "metadata": {
        "id": "d107f441",
        "outputId": "e4f3d300-fef0-44dc-cfa1-1d20f64fe543"
      },
      "outputs": [
        {
          "data": {
            "text/plain": [
              "array([9449.96232146])"
            ]
          },
          "execution_count": 24,
          "metadata": {},
          "output_type": "execute_result"
        }
      ],
      "source": [
        "#slope/m\n",
        "m = model.coef_\n",
        "m"
      ]
    },
    {
      "cell_type": "code",
      "execution_count": null,
      "id": "7d17d01b",
      "metadata": {
        "id": "7d17d01b",
        "outputId": "a0d419ef-58e6-4dd5-884d-948e9d979d33"
      },
      "outputs": [
        {
          "data": {
            "text/plain": [
              "25792.20019866871"
            ]
          },
          "execution_count": 25,
          "metadata": {},
          "output_type": "execute_result"
        }
      ],
      "source": [
        "#c:intercept\n",
        "c = model.intercept_\n",
        "c"
      ]
    },
    {
      "cell_type": "code",
      "execution_count": null,
      "id": "d54eb0f4",
      "metadata": {
        "id": "d54eb0f4",
        "outputId": "c050c098-8fff-43f4-ef5b-5317c7dc0173"
      },
      "outputs": [
        {
          "data": {
            "text/plain": [
              "array([25792.20019867])"
            ]
          },
          "execution_count": 26,
          "metadata": {},
          "output_type": "execute_result"
        }
      ],
      "source": [
        "m*0 + c"
      ]
    },
    {
      "cell_type": "code",
      "execution_count": null,
      "id": "228b5f1e",
      "metadata": {
        "id": "228b5f1e",
        "outputId": "b6cbbc0c-ebd6-478f-d489-ec61ae381d07"
      },
      "outputs": [
        {
          "data": {
            "text/plain": [
              "array([139191.74805613])"
            ]
          },
          "execution_count": 27,
          "metadata": {},
          "output_type": "execute_result"
        }
      ],
      "source": [
        "#12 yrs of exp\n",
        "m*12 + c"
      ]
    },
    {
      "cell_type": "code",
      "execution_count": null,
      "id": "bfaff5de",
      "metadata": {
        "scrolled": true,
        "id": "bfaff5de",
        "outputId": "3343907e-ae18-498f-b09f-029563b6ce0a"
      },
      "outputs": [
        {
          "data": {
            "text/plain": [
              "array([139191.74805613])"
            ]
          },
          "execution_count": 28,
          "metadata": {},
          "output_type": "execute_result"
        }
      ],
      "source": [
        "model.predict([[12]])"
      ]
    },
    {
      "cell_type": "markdown",
      "id": "4676d6b8",
      "metadata": {
        "id": "4676d6b8"
      },
      "source": [
        "## Calculate Error\n",
        "#### error = actual_value - predicted_value"
      ]
    },
    {
      "cell_type": "code",
      "execution_count": null,
      "id": "38ff2a62",
      "metadata": {
        "id": "38ff2a62",
        "outputId": "f00ff828-949f-4a60-bdca-24195b94d0ab"
      },
      "outputs": [
        {
          "data": {
            "text/html": [
              "<div>\n",
              "<style scoped>\n",
              "    .dataframe tbody tr th:only-of-type {\n",
              "        vertical-align: middle;\n",
              "    }\n",
              "\n",
              "    .dataframe tbody tr th {\n",
              "        vertical-align: top;\n",
              "    }\n",
              "\n",
              "    .dataframe thead th {\n",
              "        text-align: right;\n",
              "    }\n",
              "</style>\n",
              "<table border=\"1\" class=\"dataframe\">\n",
              "  <thead>\n",
              "    <tr style=\"text-align: right;\">\n",
              "      <th></th>\n",
              "      <th>YearsExperience</th>\n",
              "      <th>Salary</th>\n",
              "      <th>predicted</th>\n",
              "    </tr>\n",
              "  </thead>\n",
              "  <tbody>\n",
              "    <tr>\n",
              "      <th>2</th>\n",
              "      <td>1.5</td>\n",
              "      <td>37731.0</td>\n",
              "      <td>39967.143681</td>\n",
              "    </tr>\n",
              "    <tr>\n",
              "      <th>29</th>\n",
              "      <td>10.5</td>\n",
              "      <td>121872.0</td>\n",
              "      <td>125016.804574</td>\n",
              "    </tr>\n",
              "    <tr>\n",
              "      <th>18</th>\n",
              "      <td>5.9</td>\n",
              "      <td>81363.0</td>\n",
              "      <td>81546.977895</td>\n",
              "    </tr>\n",
              "    <tr>\n",
              "      <th>21</th>\n",
              "      <td>7.1</td>\n",
              "      <td>98273.0</td>\n",
              "      <td>92886.932681</td>\n",
              "    </tr>\n",
              "    <tr>\n",
              "      <th>4</th>\n",
              "      <td>2.2</td>\n",
              "      <td>39891.0</td>\n",
              "      <td>46582.117306</td>\n",
              "    </tr>\n",
              "    <tr>\n",
              "      <th>24</th>\n",
              "      <td>8.7</td>\n",
              "      <td>109431.0</td>\n",
              "      <td>108006.872395</td>\n",
              "    </tr>\n",
              "    <tr>\n",
              "      <th>12</th>\n",
              "      <td>4.0</td>\n",
              "      <td>56957.0</td>\n",
              "      <td>63592.049484</td>\n",
              "    </tr>\n",
              "    <tr>\n",
              "      <th>6</th>\n",
              "      <td>3.0</td>\n",
              "      <td>60150.0</td>\n",
              "      <td>54142.087163</td>\n",
              "    </tr>\n",
              "    <tr>\n",
              "      <th>14</th>\n",
              "      <td>4.5</td>\n",
              "      <td>61111.0</td>\n",
              "      <td>68317.030645</td>\n",
              "    </tr>\n",
              "    <tr>\n",
              "      <th>27</th>\n",
              "      <td>9.6</td>\n",
              "      <td>112635.0</td>\n",
              "      <td>116511.838485</td>\n",
              "    </tr>\n",
              "  </tbody>\n",
              "</table>\n",
              "</div>"
            ],
            "text/plain": [
              "    YearsExperience    Salary      predicted\n",
              "2               1.5   37731.0   39967.143681\n",
              "29             10.5  121872.0  125016.804574\n",
              "18              5.9   81363.0   81546.977895\n",
              "21              7.1   98273.0   92886.932681\n",
              "4               2.2   39891.0   46582.117306\n",
              "24              8.7  109431.0  108006.872395\n",
              "12              4.0   56957.0   63592.049484\n",
              "6               3.0   60150.0   54142.087163\n",
              "14              4.5   61111.0   68317.030645\n",
              "27              9.6  112635.0  116511.838485"
            ]
          },
          "execution_count": 33,
          "metadata": {},
          "output_type": "execute_result"
        }
      ],
      "source": [
        "test['predicted'] = predicted\n",
        "test"
      ]
    },
    {
      "cell_type": "code",
      "execution_count": null,
      "id": "b7be4570",
      "metadata": {
        "id": "b7be4570"
      },
      "outputs": [],
      "source": [
        "#change column names as input actual predicted\n",
        "test.columns = ['input','actual','predicted']"
      ]
    },
    {
      "cell_type": "code",
      "execution_count": null,
      "id": "a941e3d8",
      "metadata": {
        "id": "a941e3d8"
      },
      "outputs": [],
      "source": [
        "#calculate error=act-pred\n",
        "# add a new column error\n",
        "test['error'] = round((test.actual - test.predicted),2)"
      ]
    },
    {
      "cell_type": "code",
      "execution_count": null,
      "id": "69c32231",
      "metadata": {
        "scrolled": false,
        "id": "69c32231",
        "outputId": "bc84ae5c-59e9-47e0-d406-01e1f758c8e5"
      },
      "outputs": [
        {
          "data": {
            "text/html": [
              "<div>\n",
              "<style scoped>\n",
              "    .dataframe tbody tr th:only-of-type {\n",
              "        vertical-align: middle;\n",
              "    }\n",
              "\n",
              "    .dataframe tbody tr th {\n",
              "        vertical-align: top;\n",
              "    }\n",
              "\n",
              "    .dataframe thead th {\n",
              "        text-align: right;\n",
              "    }\n",
              "</style>\n",
              "<table border=\"1\" class=\"dataframe\">\n",
              "  <thead>\n",
              "    <tr style=\"text-align: right;\">\n",
              "      <th></th>\n",
              "      <th>input</th>\n",
              "      <th>actual</th>\n",
              "      <th>predicted</th>\n",
              "      <th>error</th>\n",
              "    </tr>\n",
              "  </thead>\n",
              "  <tbody>\n",
              "    <tr>\n",
              "      <th>2</th>\n",
              "      <td>1.5</td>\n",
              "      <td>37731.0</td>\n",
              "      <td>39967.143681</td>\n",
              "      <td>-2236.14</td>\n",
              "    </tr>\n",
              "    <tr>\n",
              "      <th>29</th>\n",
              "      <td>10.5</td>\n",
              "      <td>121872.0</td>\n",
              "      <td>125016.804574</td>\n",
              "      <td>-3144.80</td>\n",
              "    </tr>\n",
              "    <tr>\n",
              "      <th>18</th>\n",
              "      <td>5.9</td>\n",
              "      <td>81363.0</td>\n",
              "      <td>81546.977895</td>\n",
              "      <td>-183.98</td>\n",
              "    </tr>\n",
              "    <tr>\n",
              "      <th>21</th>\n",
              "      <td>7.1</td>\n",
              "      <td>98273.0</td>\n",
              "      <td>92886.932681</td>\n",
              "      <td>5386.07</td>\n",
              "    </tr>\n",
              "    <tr>\n",
              "      <th>4</th>\n",
              "      <td>2.2</td>\n",
              "      <td>39891.0</td>\n",
              "      <td>46582.117306</td>\n",
              "      <td>-6691.12</td>\n",
              "    </tr>\n",
              "    <tr>\n",
              "      <th>24</th>\n",
              "      <td>8.7</td>\n",
              "      <td>109431.0</td>\n",
              "      <td>108006.872395</td>\n",
              "      <td>1424.13</td>\n",
              "    </tr>\n",
              "    <tr>\n",
              "      <th>12</th>\n",
              "      <td>4.0</td>\n",
              "      <td>56957.0</td>\n",
              "      <td>63592.049484</td>\n",
              "      <td>-6635.05</td>\n",
              "    </tr>\n",
              "    <tr>\n",
              "      <th>6</th>\n",
              "      <td>3.0</td>\n",
              "      <td>60150.0</td>\n",
              "      <td>54142.087163</td>\n",
              "      <td>6007.91</td>\n",
              "    </tr>\n",
              "    <tr>\n",
              "      <th>14</th>\n",
              "      <td>4.5</td>\n",
              "      <td>61111.0</td>\n",
              "      <td>68317.030645</td>\n",
              "      <td>-7206.03</td>\n",
              "    </tr>\n",
              "    <tr>\n",
              "      <th>27</th>\n",
              "      <td>9.6</td>\n",
              "      <td>112635.0</td>\n",
              "      <td>116511.838485</td>\n",
              "      <td>-3876.84</td>\n",
              "    </tr>\n",
              "  </tbody>\n",
              "</table>\n",
              "</div>"
            ],
            "text/plain": [
              "    input    actual      predicted    error\n",
              "2     1.5   37731.0   39967.143681 -2236.14\n",
              "29   10.5  121872.0  125016.804574 -3144.80\n",
              "18    5.9   81363.0   81546.977895  -183.98\n",
              "21    7.1   98273.0   92886.932681  5386.07\n",
              "4     2.2   39891.0   46582.117306 -6691.12\n",
              "24    8.7  109431.0  108006.872395  1424.13\n",
              "12    4.0   56957.0   63592.049484 -6635.05\n",
              "6     3.0   60150.0   54142.087163  6007.91\n",
              "14    4.5   61111.0   68317.030645 -7206.03\n",
              "27    9.6  112635.0  116511.838485 -3876.84"
            ]
          },
          "execution_count": 40,
          "metadata": {},
          "output_type": "execute_result"
        }
      ],
      "source": [
        "test"
      ]
    },
    {
      "cell_type": "code",
      "execution_count": null,
      "id": "123799ac",
      "metadata": {
        "id": "123799ac"
      },
      "outputs": [],
      "source": [
        "y1 = 112635.0\n",
        "#mean \n",
        "y_bar = test.actual.mean()\n",
        "y_hat = 116511.838485"
      ]
    },
    {
      "cell_type": "code",
      "execution_count": null,
      "id": "ed2e6135",
      "metadata": {
        "id": "ed2e6135"
      },
      "outputs": [],
      "source": [
        "r2 = SSR/SST"
      ]
    },
    {
      "cell_type": "code",
      "execution_count": null,
      "id": "1b6b0a9e",
      "metadata": {
        "id": "1b6b0a9e",
        "outputId": "e4a12032-93ff-4ef0-d40d-71d8621bd8be"
      },
      "outputs": [
        {
          "data": {
            "text/plain": [
              "1.1117450620575553"
            ]
          },
          "execution_count": 47,
          "metadata": {},
          "output_type": "execute_result"
        }
      ],
      "source": [
        "(y_hat - y_bar)/(y1-y_bar)"
      ]
    },
    {
      "cell_type": "code",
      "execution_count": null,
      "id": "5c85ead0",
      "metadata": {
        "scrolled": true,
        "id": "5c85ead0",
        "outputId": "d57e0947-ed2a-430a-df44-0efa1593e279"
      },
      "outputs": [
        {
          "data": {
            "text/plain": [
              "<matplotlib.collections.PathCollection at 0x2895e9b8490>"
            ]
          },
          "execution_count": 44,
          "metadata": {},
          "output_type": "execute_result"
        },
        {
          "data": {
            "image/png": "[encoded data removed]",
            "text/plain": [
              "<Figure size 432x288 with 1 Axes>"
            ]
          },
          "metadata": {
            "needs_background": "light"
          },
          "output_type": "display_data"
        }
      ],
      "source": [
        "#plt.scatter(test.input,test.actual)\n",
        "#plt.plot(test.input,test.predicted,'--k')\n",
        "plt.scatter(test.input,test.error)"
      ]
    },
    {
      "cell_type": "markdown",
      "id": "9943c090",
      "metadata": {
        "id": "9943c090"
      },
      "source": [
        "## - Check performance using some accuracy measures"
      ]
    },
    {
      "cell_type": "code",
      "execution_count": null,
      "id": "f1aaa1f1",
      "metadata": {
        "id": "f1aaa1f1"
      },
      "outputs": [],
      "source": [
        "from sklearn.metrics import mean_absolute_error,mean_squared_error,r2_score"
      ]
    },
    {
      "cell_type": "code",
      "execution_count": null,
      "id": "36c8723f",
      "metadata": {
        "id": "36c8723f",
        "outputId": "229f8695-5186-4abc-9572-f78ba1875b56"
      },
      "outputs": [
        {
          "data": {
            "text/plain": [
              "4279.206983090329"
            ]
          },
          "execution_count": 49,
          "metadata": {},
          "output_type": "execute_result"
        }
      ],
      "source": [
        "#MAE\n",
        "mean_absolute_error(test.actual,test.predicted)"
      ]
    },
    {
      "cell_type": "code",
      "execution_count": null,
      "id": "100033c0",
      "metadata": {
        "id": "100033c0",
        "outputId": "4404b8d3-079b-4d7a-8fbc-f1a0b3591927"
      },
      "outputs": [
        {
          "data": {
            "text/plain": [
              "-1715.5849999999998"
            ]
          },
          "execution_count": 51,
          "metadata": {},
          "output_type": "execute_result"
        }
      ],
      "source": [
        "test.error.mean()"
      ]
    },
    {
      "cell_type": "code",
      "execution_count": null,
      "id": "0cdb8601",
      "metadata": {
        "id": "0cdb8601",
        "outputId": "4190c16e-6381-484f-fcb0-14302fbe1e18"
      },
      "outputs": [
        {
          "data": {
            "text/plain": [
              "23780854.62497396"
            ]
          },
          "execution_count": 52,
          "metadata": {},
          "output_type": "execute_result"
        }
      ],
      "source": [
        "#MSE \n",
        "mean_squared_error(test.actual,test.predicted)"
      ]
    },
    {
      "cell_type": "code",
      "execution_count": null,
      "id": "d6f7b245",
      "metadata": {
        "id": "d6f7b245",
        "outputId": "60bd28c8-dd7a-42b7-c241-8503219405bb"
      },
      "outputs": [
        {
          "data": {
            "text/plain": [
              "0.9725237878325123"
            ]
          },
          "execution_count": 53,
          "metadata": {},
          "output_type": "execute_result"
        }
      ],
      "source": [
        "# R2 score/R square/Coeficient of determination\n",
        "# Model accuracy\n",
        "r2_score(test.actual,test.predicted)"
      ]
    },
    {
      "cell_type": "code",
      "execution_count": null,
      "id": "deb1b208",
      "metadata": {
        "id": "deb1b208",
        "outputId": "739de904-c6de-4a63-a011-5688205ea92a"
      },
      "outputs": [
        {
          "data": {
            "text/plain": [
              "95.69566641435085"
            ]
          },
          "execution_count": 57,
          "metadata": {},
          "output_type": "execute_result"
        }
      ],
      "source": [
        "#check Data accuracy\n",
        "model.score(X,y)*100"
      ]
    },
    {
      "cell_type": "code",
      "execution_count": null,
      "id": "fa694639",
      "metadata": {
        "id": "fa694639",
        "outputId": "998f1081-5118-49ee-f42c-b78d333fc132"
      },
      "outputs": [
        {
          "data": {
            "text/plain": [
              "4876.561762653474"
            ]
          },
          "execution_count": 60,
          "metadata": {},
          "output_type": "execute_result"
        }
      ],
      "source": [
        "#RMSE\n",
        "import numpy as np\n",
        "np.sqrt(mean_squared_error(test.actual,test.predicted))"
      ]
    },
    {
      "cell_type": "code",
      "execution_count": null,
      "id": "52d368b2",
      "metadata": {
        "id": "52d368b2"
      },
      "outputs": [],
      "source": [
        "Evaluation metrics\n",
        "Evaluation measures\n",
        "Accuracy measure\n",
        "Accuracy metrics\n",
        "Performance metrics\n",
        "Performance measures"
      ]
    },
    {
      "cell_type": "code",
      "execution_count": null,
      "id": "5f6e1996",
      "metadata": {
        "id": "5f6e1996"
      },
      "outputs": [],
      "source": [
        "#IMP Que: Assignment: Adjusted R2 score\n",
        "# Q. difference between r2 score and Adjusted r2 score"
      ]
    },
    {
      "cell_type": "code",
      "execution_count": null,
      "id": "e88745cd",
      "metadata": {
        "id": "e88745cd"
      },
      "outputs": [],
      "source": [
        "\n",
        "\n",
        "\n",
        "- if accuracy is nt good then find out the reason\n",
        "- or try some hyeperparamter tuning"
      ]
    }
  ],
  "metadata": {
    "kernelspec": {
      "display_name": "Python 3 (ipykernel)",
      "language": "python",
      "name": "python3"
    },
    "language_info": {
      "codemirror_mode": {
        "name": "ipython",
        "version": 3
      },
      "file_extension": ".py",
      "mimetype": "text/x-python",
      "name": "python",
      "nbconvert_exporter": "python",
      "pygments_lexer": "ipython3",
      "version": "3.9.7"
    },
    "colab": {
      "provenance": [],
      "include_colab_link": true
    }
  },
  "nbformat": 4,
  "nbformat_minor": 5
}